{
 "metadata": {
  "name": "",
  "signature": "sha256:2ab65b9f60960dac1fa47f7b289b817654620fa6d4b95be3493b2d945ac53860"
 },
 "nbformat": 3,
 "nbformat_minor": 0,
 "worksheets": [
  {
   "cells": [
    {
     "cell_type": "heading",
     "level": 1,
     "metadata": {},
     "source": [
      "Hacking Python With Python (aka Why Python is Slow)"
     ]
    },
    {
     "cell_type": "markdown",
     "metadata": {},
     "source": [
      "We've all heard it before: Python is slow.\n",
      "\n",
      "When I teach courses on Python for scientific computing, I make this point [very early](http://nbviewer.ipython.org/github/jakevdp/2013_fall_ASTR599/blob/master/notebooks/11_EfficientNumpy.ipynb) in the course, and tell the students why: it boils down to Python being a dynamically typed, interpreted language, where values are stored not in dense buffers but in scattered objects.  And then I talk about how to get around this by using NumPy, SciPy, and related tools for vectorization of operations and calling into compiled code, and go on from there.\n",
      "\n",
      "But I realized something while sitting through Brandon Rhodes' excellent [PyCon 2014 talk](http://pyvideo.org/video/2571/all-your-ducks-in-a-row-data-structures-in-the-s): despite the relative accuracy of the above sentences, the words \"dynamically-typed-interpreted-buffers-vectorization-compiled\" probably mean very little to somebody attending a programming seminar.\n",
      "\n",
      "So I decided I would write this post, and try to go into the details that I usually gloss over. Along the way, we'll take a look at using the Python Standard library to introspect the goings-on of CPython itself. So whether you're a novice or experienced programmer, I hope you'll learn something from the following exploration."
     ]
    },
    {
     "cell_type": "heading",
     "level": 2,
     "metadata": {},
     "source": [
      "Why Python is Slow"
     ]
    },
    {
     "cell_type": "markdown",
     "metadata": {},
     "source": [
      "Python is slow for a variety of reasons:"
     ]
    },
    {
     "cell_type": "markdown",
     "metadata": {},
     "source": [
      "### 1. **Python is Dynamically Typed rather than Statically Typed**.\n",
      "\n",
      "What this means is that at the time the program executes, the interpreter doesn't know the type of the variables that are defined.  The difference between a C variable (I'm using C as a stand-in for compiled languages) and a Python variable is summarized by this diagram:\n",
      "\n",
      "<img src=\"cint_vs_pyint.png\" width=45%>\n",
      "\n",
      "For a variable in C, you know the type by definition. For a variable in Python, all you know at the time the program executes is that it's some sort of Python object.  So if you write something in C like\n",
      "\n",
      "``` C\n",
      "/* C code */\n",
      "int a = 1;\n",
      "int b = 2;\n",
      "int c = a + b;\n",
      "```\n",
      "\n",
      "C knows from the get-go that ``a`` and ``b`` are integers: they simply can't be anything else! Without any sort of extra checks, it can call the routine which adds two integers, returning another integer which is just a simple value in memory.\n",
      "\n",
      "The same operation in Python looks like this:\n",
      "\n",
      "``` python\n",
      "# python code\n",
      "a = 1\n",
      "b = 2\n",
      "c = a + b\n",
      "```\n",
      "\n",
      "here the interpreter knows only that ``1`` and ``2`` are objects, but not what type of object they are.  The interpreter must inspect ``PyObject_HEAD`` for each variable to find the type information, and then call the appropriate summation routine for the two types. Finally it must create and initialize a new Python object to hold the return value."
     ]
    },
    {
     "cell_type": "markdown",
     "metadata": {},
     "source": [
      "### 2. Python is interpreted rather than compiled.\n",
      "\n",
      "We saw above one difference between interpreted and compiled code. A smart compiler can look ahead and optimize for repeated operations, which can result in speed-ups. Compiler optimization is its own beast, and I'm personally not qualified to say much about it, so I'll stop there.  For some examples of this in action, you can take a look at my [previous post](http://jakevdp.github.io/blog/2013/06/15/numba-vs-cython-take-2/) on Numba and Cython."
     ]
    },
    {
     "cell_type": "markdown",
     "metadata": {},
     "source": [
      "### 3. Python's object model can lead to inefficient memory access\n",
      "\n",
      "We saw above the difference between a C integer and a Python integer. Now imagine you have many such integers and want to do some sort of batch operation on them.  In C you would likely use some sort of buffer-based array, while in Python you would probably be tempted to use the built-in ``List`` object. Here's a schematic of how each of these look:\n",
      "\n",
      "<img src=\"array_vs_list.png\" width=80%>\n",
      "\n",
      "A NumPy array is a Python object that has a pointer to a contiguous data buffer of adjacent values. A Python list, on the other hand, has a pointer to a contiguous buffer of pointers, each of which points to a Python object which in turn has references to its data (in this case, integers).\n",
      "\n",
      "<small>(I'll say it just because someone will complain if I don't: in Python 3.4, the length of the list is actually included as part of the ``PyObject_HEAD`` macro)</small>\n",
      "\n",
      "It's easy to see that if you're doing some operation which steps through data in sequence, the numpy layout will be much more efficient than the Python layout, both in the cost of storage and manipulation."
     ]
    },
    {
     "cell_type": "markdown",
     "metadata": {},
     "source": [
      "### So Why Use Python?\n",
      "\n",
      "Given this inefficiency, why would we even think about using Python? Well, it comes down to this: Python is **easier to use** than C.  It's extremely **flexible and forgiving**, this flexibility leads to **efficient use of development time**, and when you really need the optimization of C, **Python offers easy hooks into compiled libraries**. It's why Python use within many scientific communities has been continually growing. With all that put together, Python ends up being an extremely efficient language for the overall task of doing science with code."
     ]
    },
    {
     "cell_type": "heading",
     "level": 2,
     "metadata": {},
     "source": [
      "Hacking Python: Don't take my word for it"
     ]
    },
    {
     "cell_type": "markdown",
     "metadata": {},
     "source": [
      "Above I've talked about some of the internal structures that make Python tick, but I don't want to stop there. As I was putting together that summary, I started hacking around on the internals of the Python language, and the results are pretty fun.\n",
      "\n",
      "In the following sections, I'm going to *prove* to you that the above information is correct.  Please note that everything here is written using **Python 3.4**. Earlier versions of Python have a slightly different internal object structure, and later versions may tweak this further. Please make sure to use the correct version!  Also, most of the code below assumes a 64-bit CPU. If you're on a 32-bit platform, some of the C types may have to be adjusted to account for this difference."
     ]
    },
    {
     "cell_type": "heading",
     "level": 3,
     "metadata": {},
     "source": [
      "Digging into Python Integers"
     ]
    },
    {
     "cell_type": "markdown",
     "metadata": {},
     "source": [
      "Integers in Python are easy to create and use:"
     ]
    },
    {
     "cell_type": "code",
     "collapsed": false,
     "input": [
      "x = 42\n",
      "print(x)"
     ],
     "language": "python",
     "metadata": {},
     "outputs": [
      {
       "output_type": "stream",
       "stream": "stdout",
       "text": [
        "42\n"
       ]
      }
     ],
     "prompt_number": 1
    },
    {
     "cell_type": "markdown",
     "metadata": {},
     "source": [
      "But this simplicity belies the complexity of what is happening under the hood. We briefly discussed the memory layout of Python integers above.  Here we'll use Python's built-in ``ctypes`` module to introspect Python's integer type from the Python interpreter itself.  But first we need to know exactly what a Python integer looks like at the level of the C API.\n",
      "\n",
      "The actual ``x`` variable in CPython is stored in a structure which is defined in the CPython source code, in [Include/longintrepr.h](http://hg.python.org/cpython/file/3.4/Include/longintrepr.h/#l89)\n",
      "\n",
      "``` C\n",
      "struct _longobject {\n",
      "\tPyObject_VAR_HEAD\n",
      "\tdigit ob_digit[1];\n",
      "};\n",
      "```\n",
      "\n",
      "The ``PyObject_VAR_HEAD`` is a macro which starts the object off with the following struct, defined in [Include/object.h](http://hg.python.org/cpython/file/3.4/Include/object.h#l111):\n",
      "\n",
      "``` C\n",
      "typedef struct {\n",
      "    PyObject ob_base;\n",
      "    Py_ssize_t ob_size; /* Number of items in variable part */\n",
      "} PyVarObject;\n",
      "```\n",
      "\n",
      "... and includes a ``PyObject`` element, which is also defined in [Include/object.h](http://hg.python.org/cpython/file/3.4/Include/object.h#l105):\n",
      "\n",
      "``` C\n",
      "typedef struct _object {\n",
      "    _PyObject_HEAD_EXTRA\n",
      "    Py_ssize_t ob_refcnt;\n",
      "    struct _typeobject *ob_type;\n",
      "} PyObject;\n",
      "```\n",
      "\n",
      "here ``_PyObject_HEAD_EXTRA`` is a macro which is ignored in non-debug builds.\n",
      "\n",
      "With all this put together and typedefs/macros unobfuscated, our integer object is basically something like the following structure:\n",
      "\n",
      "``` C\n",
      "struct _longobject {\n",
      "    long ob_refcnt;\n",
      "    PyTypeObject *ob_type;\n",
      "    size_t ob_size;\n",
      "\tlong ob_digit[1];\n",
      "};\n",
      "```\n",
      "\n",
      "The ``ob_refcnt`` variable is the reference count for the object, the ``ob_type`` variable is a pointer to the structure containing all the type information and method definitions for the object, and the ``ob_digit`` holds the actual numerical value.\n",
      "\n",
      "Armed with this knowledge, we can have some fun.  We'll use the ``ctypes`` module to start looking into the actual object structure and extract some of the above information.\n",
      "\n",
      "We start with defining a Python representation of the C structure:"
     ]
    },
    {
     "cell_type": "code",
     "collapsed": false,
     "input": [
      "import ctypes\n",
      "\n",
      "class IntStruct(ctypes.Structure):\n",
      "    _fields_ = [(\"ob_refcnt\", ctypes.c_long),\n",
      "                (\"ob_type\", ctypes.c_void_p),\n",
      "                (\"ob_size\", ctypes.c_ulong),\n",
      "                (\"ob_digit\", ctypes.c_long)]\n",
      "    \n",
      "    def __repr__(self):\n",
      "        return (\"IntStruct({self.ob_digit}, \"\n",
      "                \"refcount={self.ob_refcnt})\").format(self=self)"
     ],
     "language": "python",
     "metadata": {},
     "outputs": [],
     "prompt_number": 2
    },
    {
     "cell_type": "markdown",
     "metadata": {},
     "source": [
      "Now let's look at the internal representation for some number, say 42.  We'll use the fact that in CPython, the ``id`` function gives the memory location of the object:"
     ]
    },
    {
     "cell_type": "code",
     "collapsed": false,
     "input": [
      "num = 42\n",
      "IntStruct.from_address(id(42))"
     ],
     "language": "python",
     "metadata": {},
     "outputs": [
      {
       "metadata": {},
       "output_type": "pyout",
       "prompt_number": 3,
       "text": [
        "IntStruct(42, refcount=31)"
       ]
      }
     ],
     "prompt_number": 3
    },
    {
     "cell_type": "markdown",
     "metadata": {},
     "source": [
      "But wait... we've only created a single value: why is the reference count so much greater than one?\n",
      "\n",
      "Well it turns out that Python uses small integers *a lot*. Because of this, small integers are implemented as **singletons**: that is, only one copy of the numbers 0-255 exist in memory: every time you create a new integer in this range, it simply returns a reference to the singleton with that value:"
     ]
    },
    {
     "cell_type": "code",
     "collapsed": false,
     "input": [
      "x = 42\n",
      "y = 42\n",
      "id(x) == id(y)"
     ],
     "language": "python",
     "metadata": {},
     "outputs": [
      {
       "metadata": {},
       "output_type": "pyout",
       "prompt_number": 4,
       "text": [
        "True"
       ]
      }
     ],
     "prompt_number": 4
    },
    {
     "cell_type": "markdown",
     "metadata": {},
     "source": [
      "Both variables are just pointers to the same memory address.  When you get to much bigger integers, this is no longer true:"
     ]
    },
    {
     "cell_type": "code",
     "collapsed": false,
     "input": [
      "x = 1234\n",
      "y = 1234\n",
      "id(x) == id(y)"
     ],
     "language": "python",
     "metadata": {},
     "outputs": [
      {
       "metadata": {},
       "output_type": "pyout",
       "prompt_number": 5,
       "text": [
        "False"
       ]
      }
     ],
     "prompt_number": 5
    },
    {
     "cell_type": "markdown",
     "metadata": {},
     "source": [
      "Just starting up the Python interpreter will create a lot of references to these integers; it can be interesting to take a look at how many references there are to each:"
     ]
    },
    {
     "cell_type": "code",
     "collapsed": false,
     "input": [
      "%matplotlib inline\n",
      "import matplotlib.pyplot as plt\n",
      "import sys\n",
      "plt.loglog(range(1000), [sys.getrefcount(i) for i in range(1000)])\n",
      "plt.xlabel('integer value')\n",
      "plt.ylabel('reference count')"
     ],
     "language": "python",
     "metadata": {},
     "outputs": [
      {
       "metadata": {},
       "output_type": "pyout",
       "prompt_number": 6,
       "text": [
        "<matplotlib.text.Text at 0x106879be0>"
       ]
      },
      {
       "metadata": {},
       "output_type": "display_data",
       "png": "[encoded data removed]",
       "text": [
        "<matplotlib.figure.Figure at 0x10219b198>"
       ]
      }
     ],
     "prompt_number": 6
    },
    {
     "cell_type": "markdown",
     "metadata": {},
     "source": [
      "We see that zero is referenced several thousand times, and as you may expect, the frequency of references generally decreases as the value of the integer increases.\n",
      "\n",
      "Just to further make sure that this is behaving as we'd expect, let's make sure the ``ob_digit`` field holds the correct value:"
     ]
    },
    {
     "cell_type": "code",
     "collapsed": false,
     "input": [
      "all(i == IntStruct.from_address(id(i)).ob_digit\n",
      "    for i in range(256))"
     ],
     "language": "python",
     "metadata": {},
     "outputs": [
      {
       "metadata": {},
       "output_type": "pyout",
       "prompt_number": 7,
       "text": [
        "True"
       ]
      }
     ],
     "prompt_number": 7
    },
    {
     "cell_type": "markdown",
     "metadata": {},
     "source": [
      "If you go a bit deeper into this, you might notice that this does not hold for numbers larger than 256: it turns out that some bit-shift gymnastics are performed in [Objects/longobject.c](http://hg.python.org/cpython/file/3.4/Objects/longobject.c#l232), and these change the way large integers are represented in memory.\n",
      "\n",
      "I can't say that I fully understand why exactly that is happening, but I imagine it has something to do with Python's ability to efficiently handle integers past the overflow limit of the long int data type, as we can see here:"
     ]
    },
    {
     "cell_type": "code",
     "collapsed": false,
     "input": [
      "2 ** 100"
     ],
     "language": "python",
     "metadata": {},
     "outputs": [
      {
       "metadata": {},
       "output_type": "pyout",
       "prompt_number": 8,
       "text": [
        "1267650600228229401496703205376"
       ]
      }
     ],
     "prompt_number": 8
    },
    {
     "cell_type": "markdown",
     "metadata": {},
     "source": [
      "That number is much too long to be a ``long``!"
     ]
    },
    {
     "cell_type": "heading",
     "level": 3,
     "metadata": {},
     "source": [
      "Digging into Python Lists"
     ]
    },
    {
     "cell_type": "markdown",
     "metadata": {},
     "source": [
      "Similarly, we can now start to look at how lists are implemented. Analogously to integers, we find the list object defined in [Include/listobject.h](http://hg.python.org/cpython/file/3.4/Include/listobject.h#l23):\n",
      "\n",
      "``` C\n",
      "typedef struct {\n",
      "    PyObject_VAR_HEAD\n",
      "    PyObject **ob_item;\n",
      "    Py_ssize_t allocated;\n",
      "} PyListObject;\n",
      "```\n",
      "\n",
      "Again, we can expand the macros and de-obfuscate the types to see that the structure is effectively the following:\n",
      "\n",
      "``` C\n",
      "typedef struct {\n",
      "    long ob_refcnt;\n",
      "    PyTypeObject *ob_type;\n",
      "    Py_ssize_t ob_size;\n",
      "    PyObject **ob_item;\n",
      "    long allocated;\n",
      "} PyListObject;\n",
      "```\n",
      "\n",
      "Here the ``PyObject **ob_item`` is what points to the contents of the list, and the ``ob_size`` value tells us how many items are in the list."
     ]
    },
    {
     "cell_type": "code",
     "collapsed": false,
     "input": [
      "class ListStruct(ctypes.Structure):\n",
      "    _fields_ = [(\"ob_refcnt\", ctypes.c_long),\n",
      "                (\"ob_type\", ctypes.c_void_p),\n",
      "                (\"ob_size\", ctypes.c_ulong),\n",
      "                (\"ob_item\", ctypes.c_long),  # PyObject** pointer cast to long\n",
      "                (\"allocated\", ctypes.c_ulong)]\n",
      "    \n",
      "    def __repr__(self):\n",
      "        return (\"ListStruct(len={self.ob_size}, \"\n",
      "                \"refcount={self.ob_refcnt})\").format(self=self)"
     ],
     "language": "python",
     "metadata": {},
     "outputs": [],
     "prompt_number": 9
    },
    {
     "cell_type": "markdown",
     "metadata": {},
     "source": [
      "Let's try it out:"
     ]
    },
    {
     "cell_type": "code",
     "collapsed": false,
     "input": [
      "L = [1,2,3,4,5]\n",
      "ListStruct.from_address(id(L))"
     ],
     "language": "python",
     "metadata": {},
     "outputs": [
      {
       "metadata": {},
       "output_type": "pyout",
       "prompt_number": 10,
       "text": [
        "ListStruct(len=5, refcount=1)"
       ]
      }
     ],
     "prompt_number": 10
    },
    {
     "cell_type": "markdown",
     "metadata": {},
     "source": [
      "Just to make sure we've done things correctly, let's create a list which has some extra references, and see how it affects the reference count:"
     ]
    },
    {
     "cell_type": "code",
     "collapsed": false,
     "input": [
      "tup = [L, L]  # two more references to L\n",
      "ListStruct.from_address(id(L))"
     ],
     "language": "python",
     "metadata": {},
     "outputs": [
      {
       "metadata": {},
       "output_type": "pyout",
       "prompt_number": 11,
       "text": [
        "ListStruct(len=5, refcount=3)"
       ]
      }
     ],
     "prompt_number": 11
    },
    {
     "cell_type": "markdown",
     "metadata": {},
     "source": [
      "Now let's see about the actual data in the list..."
     ]
    },
    {
     "cell_type": "code",
     "collapsed": false,
     "input": [
      "def get_IntStruct_array(L):\n",
      "    if any(type(i) is not int for i in L):\n",
      "        raise ValueError(\"This only works for integers\")"
     ],
     "language": "python",
     "metadata": {},
     "outputs": [],
     "prompt_number": 12
    },
    {
     "cell_type": "code",
     "collapsed": false,
     "input": [
      "# get a raw pointer to our list\n",
      "Lstruct = ListStruct.from_address(id(L))\n",
      "\n",
      "# create a type which is an array of integer pointers the same length as L\n",
      "LIntArray = Lstruct.ob_size * ctypes.POINTER(IntStruct)\n",
      "\n",
      "# instantiate this type using the ob_item pointer\n",
      "L_values = LIntArray.from_address(Lstruct.ob_item)"
     ],
     "language": "python",
     "metadata": {},
     "outputs": [],
     "prompt_number": 13
    },
    {
     "cell_type": "markdown",
     "metadata": {},
     "source": [
      "Now let's take a look at the values in each of the items:"
     ]
    },
    {
     "cell_type": "code",
     "collapsed": false,
     "input": [
      "[ptr[0] for ptr in L_values]  # ptr[0] dereferences the pointer"
     ],
     "language": "python",
     "metadata": {},
     "outputs": [
      {
       "metadata": {},
       "output_type": "pyout",
       "prompt_number": 14,
       "text": [
        "[IntStruct(1, refcount=5296),\n",
        " IntStruct(2, refcount=2887),\n",
        " IntStruct(3, refcount=934),\n",
        " IntStruct(4, refcount=1049),\n",
        " IntStruct(5, refcount=808)]"
       ]
      }
     ],
     "prompt_number": 14
    },
    {
     "cell_type": "markdown",
     "metadata": {},
     "source": [
      "We've recovered the list of raw C-level integers! You might wish to take a moment to look back up to the schematic of the List memory layout above, and see how these operations map onto that diagram."
     ]
    },
    {
     "cell_type": "heading",
     "level": 3,
     "metadata": {},
     "source": [
      "Digging into NumPy arrays"
     ]
    },
    {
     "cell_type": "markdown",
     "metadata": {},
     "source": [
      "Now, for comparison, let's do the same introspection on a numpy array.  I'll skip the detailed walk-through of the NumPy array definition; if you want to take a look at it, you can find it in [numpy/core/include/numpy/ndarraytypes.h](https://github.com/numpy/numpy/blob/maintenance/1.8.x/numpy/core/include/numpy/ndarraytypes.h#L646)\n",
      "\n",
      "Note that I'm using NumPy version 1.8 here; these internals may have changed between versions (though I must admit I haven't been following that closely)."
     ]
    },
    {
     "cell_type": "code",
     "collapsed": false,
     "input": [
      "import numpy as np\n",
      "np.__version__"
     ],
     "language": "python",
     "metadata": {},
     "outputs": [
      {
       "metadata": {},
       "output_type": "pyout",
       "prompt_number": 15,
       "text": [
        "'1.8.1'"
       ]
      }
     ],
     "prompt_number": 15
    },
    {
     "cell_type": "markdown",
     "metadata": {},
     "source": [
      "Let's start by creating a structure that represents the numpy array itself:"
     ]
    },
    {
     "cell_type": "code",
     "collapsed": false,
     "input": [
      "class NumpyStruct(ctypes.Structure):\n",
      "    _fields_ = [(\"ob_refcnt\", ctypes.c_long),\n",
      "                (\"ob_type\", ctypes.c_void_p),\n",
      "                (\"ob_data\", ctypes.c_long),  # char* pointer cast to long\n",
      "                (\"ob_ndim\", ctypes.c_int),\n",
      "                (\"ob_shape\", ctypes.c_voidp),\n",
      "                (\"ob_strides\", ctypes.c_voidp)]\n",
      "    \n",
      "    @property\n",
      "    def shape(self):\n",
      "        return tuple((self.ob_ndim * ctypes.c_int64).from_address(self.ob_shape))\n",
      "    \n",
      "    @property\n",
      "    def strides(self):\n",
      "        return tuple((self.ob_ndim * ctypes.c_int64).from_address(self.ob_strides))\n",
      "    \n",
      "    def __repr__(self):\n",
      "        return (\"NumpyStruct(shape={self.shape}, \"\n",
      "                \"refcount={self.ob_refcnt})\").format(self=self)"
     ],
     "language": "python",
     "metadata": {},
     "outputs": [],
     "prompt_number": 16
    },
    {
     "cell_type": "code",
     "collapsed": false,
     "input": [
      "x = np.random.random((10, 20))\n",
      "xstruct = NumpyStruct.from_address(id(x))\n",
      "xstruct"
     ],
     "language": "python",
     "metadata": {},
     "outputs": [
      {
       "metadata": {},
       "output_type": "pyout",
       "prompt_number": 17,
       "text": [
        "NumpyStruct(shape=(10, 20), refcount=1)"
       ]
      }
     ],
     "prompt_number": 17
    },
    {
     "cell_type": "markdown",
     "metadata": {},
     "source": [
      "We see that we've pulled out the correct shape information.  Let's make sure the reference count is correct:"
     ]
    },
    {
     "cell_type": "code",
     "collapsed": false,
     "input": [
      "L = [x,x,x]  # add three more references to x\n",
      "xstruct"
     ],
     "language": "python",
     "metadata": {},
     "outputs": [
      {
       "metadata": {},
       "output_type": "pyout",
       "prompt_number": 18,
       "text": [
        "NumpyStruct(shape=(10, 20), refcount=4)"
       ]
      }
     ],
     "prompt_number": 18
    },
    {
     "cell_type": "markdown",
     "metadata": {},
     "source": [
      "Now we can do the tricky part of pulling out the data buffer. For simplicity we'll ignore the strides and assume it's a C-contiguous array; the generalization should be straightforward:"
     ]
    },
    {
     "cell_type": "code",
     "collapsed": false,
     "input": [
      "from array import array\n",
      "\n",
      "x = np.arange(10)\n",
      "xstruct = NumpyStruct.from_address(id(x))\n",
      "size = np.prod(xstruct.shape)\n",
      "\n",
      "# assume an array of integers\n",
      "arraytype = size * ctypes.c_long\n",
      "data = arraytype.from_address(xstruct.ob_data)\n",
      "\n",
      "[d for d in data]"
     ],
     "language": "python",
     "metadata": {},
     "outputs": [
      {
       "metadata": {},
       "output_type": "pyout",
       "prompt_number": 19,
       "text": [
        "[0, 1, 2, 3, 4, 5, 6, 7, 8, 9]"
       ]
      }
     ],
     "prompt_number": 19
    },
    {
     "cell_type": "markdown",
     "metadata": {},
     "source": [
      "The ``data`` variable is now a view of the contiguous block of memory defined in the NumPy array!  To show this, we'll change a value in the array..."
     ]
    },
    {
     "cell_type": "code",
     "collapsed": false,
     "input": [
      "x[4] = 555\n",
      "[d for d in data]"
     ],
     "language": "python",
     "metadata": {},
     "outputs": [
      {
       "metadata": {},
       "output_type": "pyout",
       "prompt_number": 20,
       "text": [
        "[0, 1, 2, 3, 555, 5, 6, 7, 8, 9]"
       ]
      }
     ],
     "prompt_number": 20
    },
    {
     "cell_type": "markdown",
     "metadata": {},
     "source": [
      "... and observe that the data view changes as well.  Both ``x`` and ``data`` are pointing to the same contiguous block of memory.\n",
      "\n",
      "Comparing the internals of the Python list and the NumPy ndarray, it is clear that NumPy's arrays are **much, much** simpler for representing a list of identically-typed data. That fact is related to what makes it more efficient for the compiler to handle as well."
     ]
    },
    {
     "cell_type": "heading",
     "level": 2,
     "metadata": {},
     "source": [
      "Conclusion"
     ]
    },
    {
     "cell_type": "markdown",
     "metadata": {},
     "source": [
      "Python is slow. And one big reason for that, as we've seen, is the indirection under the hood which makes Python quick, easy, and fun for the developer. I hope that this was made more clear through this exploration of the differences between various objects, and some liberal mucking around in the internals of CPython itself. This exercise was extremely enlightening for me, and I hope it was for you as well...  Happy hacking!"
     ]
    }
   ],
   "metadata": {}
  }
 ]
}