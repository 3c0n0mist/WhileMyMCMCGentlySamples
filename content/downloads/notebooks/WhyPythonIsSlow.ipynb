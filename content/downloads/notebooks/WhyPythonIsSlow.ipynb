{
 "metadata": {
  "name": "",
  "signature": "sha256:077cd15fce26410aaa562399d38a89f53009792ce4785fe19b7cd6631313f121"
 },
 "nbformat": 3,
 "nbformat_minor": 0,
 "worksheets": [
  {
   "cells": [
    {
     "cell_type": "heading",
     "level": 1,
     "metadata": {},
     "source": [
      "Why Python is Slow: Looking Under the Hood"
     ]
    },
    {
     "cell_type": "markdown",
     "metadata": {},
     "source": [
      "We've all heard it before: Python is slow.\n",
      "\n",
      "When I teach courses on Python for scientific computing, I make this point [very early](http://nbviewer.ipython.org/github/jakevdp/2013_fall_ASTR599/blob/master/notebooks/11_EfficientNumpy.ipynb) in the course, and tell the students why: it boils down to Python being a dynamically typed, interpreted language, where values are stored not in dense buffers but in scattered objects.  And then I talk about how to get around this by using NumPy, SciPy, and related tools for vectorization of operations and calling into compiled code, and go on from there.\n",
      "\n",
      "But I realized something recently: despite the relative accuracy of the above statements, the words \"dynamically-typed-interpreted-buffers-vectorization-compiled\" probably mean very little to somebody attending an intro programming seminar. The jargon does little to enlighten people about what's actually going on \"under the hood\", so to speak.\n",
      "\n",
      "So I decided I would write this post, and dive into the details that I usually gloss over. Along the way, we'll take a look at using Python's standard library to introspect the goings-on of CPython itself. So whether you're a novice or experienced programmer, I hope you'll learn something from the following exploration."
     ]
    },
    {
     "cell_type": "heading",
     "level": 2,
     "metadata": {},
     "source": [
      "Why Python is Slow"
     ]
    },
    {
     "cell_type": "markdown",
     "metadata": {},
     "source": [
      "Python is slower than Fortran and C for a variety of reasons:"
     ]
    },
    {
     "cell_type": "markdown",
     "metadata": {},
     "source": [
      "### 1. **Python is Dynamically Typed rather than Statically Typed**.\n",
      "\n",
      "What this means is that at the time the program executes, the interpreter doesn't know the type of the variables that are defined.  The difference between a C variable (I'm using C as a stand-in for compiled languages) and a Python variable is summarized by this diagram:\n",
      "\n",
      "<img src=\"cint_vs_pyint.png\" width=45%>\n",
      "\n",
      "For a variable in C, the compiler knows the type by its very definition. For a variable in Python, all you know at the time the program executes is that it's some sort of Python object.  So if you write the following in C:\n",
      "\n",
      "``` C\n",
      "/* C code */\n",
      "int a = 1;\n",
      "int b = 2;\n",
      "int c = a + b;\n",
      "```\n",
      "\n",
      "the C compiler knows from the start that ``a`` and ``b`` are integers: they simply can't be anything else! With this knowledge, it can call the routine which adds two integers, returning another integer which is just a simple value in memory. As a rough schematic, the sequence of events looks like this:\n",
      "\n",
      "#### C Addition\n",
      "\n",
      "1. Assign ``<int> 1`` to ``a``\n",
      "2. Assign ``<int> 2`` to ``b``\n",
      "3. call ``binary_add<int, int>(a, b)``\n",
      "4. Assign the result to c\n",
      "\n",
      "The equivalent code in Python looks like this:\n",
      "\n",
      "``` python\n",
      "# python code\n",
      "a = 1\n",
      "b = 2\n",
      "c = a + b\n",
      "```\n",
      "\n",
      "here the interpreter knows only that ``1`` and ``2`` are objects, but not what type of object they are. So the The interpreter must inspect ``PyObject_HEAD`` for each variable to find the type information, and then call the appropriate summation routine for the two types. Finally it must create and initialize a new Python object to hold the return value.  The sequence of events looks roughly like this:\n",
      "\n",
      "#### Python Addition\n",
      "\n",
      "1. Assign ``1`` to ``a``\n",
      "\n",
      "   - **1a.** Set ``a->PyObject_HEAD->typecode`` to integer\n",
      "   - **1b.** Set ``a->val = 1``\n",
      "\n",
      "2. Assign ``2`` to ``b``\n",
      "\n",
      "   - **2a.** Set ``b->PyObject_HEAD->typecode`` to integer\n",
      "   - **2b.** Set ``b->val = 2``\n",
      "   \n",
      "3. call ``binary_add(a, b)``\n",
      "\n",
      "   - **3a.** find typecode in ``a->PyObject_HEAD``\n",
      "   - **3b.** ``a`` is an integer; value is ``a->val``\n",
      "   - **3c.** find typecode in ``b->PyObject_HEAD``\n",
      "   - **3d.** ``b`` is an integer; value is ``b->val``\n",
      "   - **3e.** call ``binary_add<int, int>(a->val, b->val)``\n",
      "   - **3f.** result of this is ``result``, and is an integer.\n",
      "   \n",
      "4. Create a Python object ``c``\n",
      "   \n",
      "   - **4a.** set ``c->PyObject_HEAD->typecode`` to integer\n",
      "   - **4b.** set ``c->val`` to ``result``\n",
      "   \n",
      "The dynamic typing means that there are a lot more steps involved with any operation. This is a primary reason that Python is slow compared to C for operations on numerical data."
     ]
    },
    {
     "cell_type": "markdown",
     "metadata": {},
     "source": [
      "### 2. Python is interpreted rather than compiled.\n",
      "\n",
      "We saw above one difference between interpreted and compiled code. A smart compiler can look ahead and optimize for repeated or unneeded operations, which can result in speed-ups. Compiler optimization is its own beast, and I'm personally not qualified to say much about it, so I'll stop there.  For some examples of this in action, you can take a look at my [previous post](http://jakevdp.github.io/blog/2013/06/15/numba-vs-cython-take-2/) on Numba and Cython."
     ]
    },
    {
     "cell_type": "markdown",
     "metadata": {},
     "source": [
      "### 3. Python's object model can lead to inefficient memory access\n",
      "\n",
      "We saw above the extra type info layer when moving from a C integer to a Python integer. Now imagine you have many such integers and want to do some sort of batch operation on them.  In Python you might use the standard ``List`` object, while in C you would likely use some sort of buffer-based array.\n",
      "\n",
      "A NumPy array in its simplest form is a Python object build around a C array. That is, it has a pointer to a *contiguous* data buffer of values. A Python list, on the other hand, has a pointer to a contiguous buffer of pointers, each of which points to a Python object which in turn has references to its data (in this case, integers).  This is a schematic of what the two might look like:\n",
      "\n",
      "<img src=\"array_vs_list.png\" width=80%>\n",
      "\n",
      "<small>(I'll say it just because someone will complain if I don't: in Python 3.4, the length of the list is actually included as part of the ``PyObject_HEAD`` macro. Also, the above pointer values are for illustration only.)</small>\n",
      "\n",
      "It's easy to see that if you're doing some operation which steps through data in sequence, the numpy layout will be much more efficient than the Python layout, both in the cost of storage and manipulation."
     ]
    },
    {
     "cell_type": "markdown",
     "metadata": {},
     "source": [
      "### So Why Use Python?\n",
      "\n",
      "Given this inherent inefficiency, why would we even think about using Python? Well, it comes down to this: Dynamic typing makes Python **easier to use** than C.  It's extremely **flexible and forgiving**, this flexibility leads to **efficient use of development time**, and on those occasions that you really need the optimization of C or Fortran, **Python offers easy hooks into compiled libraries**. It's why Python use within many scientific communities has been continually growing. With all that put together, Python ends up being an extremely efficient language for the overall task of doing science with code."
     ]
    },
    {
     "cell_type": "heading",
     "level": 2,
     "metadata": {},
     "source": [
      "Python meta-hacking: Don't take my word for it"
     ]
    },
    {
     "cell_type": "markdown",
     "metadata": {},
     "source": [
      "Above I've talked about some of the internal structures that make Python tick, but I don't want to stop there. As I was putting together the above summary, I started hacking around on the internals of the Python language, and found that the process itself is pretty enlightening.\n",
      "\n",
      "In the following sections, I'm going to *prove* to you that the above information is correct, by doing some hacking to expose Python objects using Python itself.  Please note that everything below is written using **Python 3.4**. Earlier versions of Python have a slightly different internal object structure, and later versions may tweak this further. Please make sure to use the correct version!  Also, most of the code below assumes a 64-bit CPU. If you're on a 32-bit platform, some of the C types below will have to be adjusted to account for this difference."
     ]
    },
    {
     "cell_type": "code",
     "collapsed": false,
     "input": [
      "import sys\n",
      "print(\"Python version =\", sys.version[:5])"
     ],
     "language": "python",
     "metadata": {},
     "outputs": [
      {
       "output_type": "stream",
       "stream": "stdout",
       "text": [
        "Python version = 3.4.0\n"
       ]
      }
     ],
     "prompt_number": 1
    },
    {
     "cell_type": "heading",
     "level": 3,
     "metadata": {},
     "source": [
      "Digging into Python Integers"
     ]
    },
    {
     "cell_type": "markdown",
     "metadata": {},
     "source": [
      "Integers in Python are easy to create and use:"
     ]
    },
    {
     "cell_type": "code",
     "collapsed": false,
     "input": [
      "x = 42\n",
      "print(x)"
     ],
     "language": "python",
     "metadata": {},
     "outputs": [
      {
       "output_type": "stream",
       "stream": "stdout",
       "text": [
        "42\n"
       ]
      }
     ],
     "prompt_number": 2
    },
    {
     "cell_type": "markdown",
     "metadata": {},
     "source": [
      "But the simplicity of this interface belies the complexity of what is happening under the hood. We briefly discussed the memory layout of Python integers above.  Here we'll use Python's built-in ``ctypes`` module to introspect Python's integer type from the Python interpreter itself.  But first we need to know exactly what a Python integer looks like at the level of the C API.\n",
      "\n",
      "The actual ``x`` variable in CPython is stored in a structure which is defined in the CPython source code, in [Include/longintrepr.h](http://hg.python.org/cpython/file/3.4/Include/longintrepr.h/#l89)\n",
      "\n",
      "``` C\n",
      "struct _longobject {\n",
      "\tPyObject_VAR_HEAD\n",
      "\tdigit ob_digit[1];\n",
      "};\n",
      "```\n",
      "\n",
      "The ``PyObject_VAR_HEAD`` is a macro which starts the object off with the following struct, defined in [Include/object.h](http://hg.python.org/cpython/file/3.4/Include/object.h#l111):\n",
      "\n",
      "``` C\n",
      "typedef struct {\n",
      "    PyObject ob_base;\n",
      "    Py_ssize_t ob_size; /* Number of items in variable part */\n",
      "} PyVarObject;\n",
      "```\n",
      "\n",
      "... and includes a ``PyObject`` element, which is also defined in [Include/object.h](http://hg.python.org/cpython/file/3.4/Include/object.h#l105):\n",
      "\n",
      "``` C\n",
      "typedef struct _object {\n",
      "    _PyObject_HEAD_EXTRA\n",
      "    Py_ssize_t ob_refcnt;\n",
      "    struct _typeobject *ob_type;\n",
      "} PyObject;\n",
      "```\n",
      "\n",
      "here ``_PyObject_HEAD_EXTRA`` is a macro which is not used by default.\n",
      "\n",
      "With all this put together and typedefs/macros unobfuscated, our integer object works out to something like the following structure:\n",
      "\n",
      "``` C\n",
      "struct _longobject {\n",
      "    long ob_refcnt;\n",
      "    PyTypeObject *ob_type;\n",
      "    size_t ob_size;\n",
      "\tlong ob_digit[1];\n",
      "};\n",
      "```\n",
      "\n",
      "The ``ob_refcnt`` variable is the reference count for the object, the ``ob_type`` variable is a pointer to the structure containing all the type information and method definitions for the object, and the ``ob_digit`` holds the actual numerical value.\n",
      "\n",
      "Armed with this knowledge, we'll use the ``ctypes`` module to start looking into the actual object structure and extract some of the above information.\n",
      "\n",
      "We start with defining a Python representation of the C structure:"
     ]
    },
    {
     "cell_type": "code",
     "collapsed": false,
     "input": [
      "import ctypes\n",
      "\n",
      "class IntStruct(ctypes.Structure):\n",
      "    _fields_ = [(\"ob_refcnt\", ctypes.c_long),\n",
      "                (\"ob_type\", ctypes.c_void_p),\n",
      "                (\"ob_size\", ctypes.c_ulong),\n",
      "                (\"ob_digit\", ctypes.c_long)]\n",
      "    \n",
      "    def __repr__(self):\n",
      "        return (\"IntStruct(ob_digit={self.ob_digit}, \"\n",
      "                \"refcount={self.ob_refcnt})\").format(self=self)"
     ],
     "language": "python",
     "metadata": {},
     "outputs": [],
     "prompt_number": 3
    },
    {
     "cell_type": "markdown",
     "metadata": {},
     "source": [
      "Now let's look at the internal representation for some number, say 42.  We'll use the fact that in CPython, the ``id`` function gives the memory location of the object:"
     ]
    },
    {
     "cell_type": "code",
     "collapsed": false,
     "input": [
      "num = 42\n",
      "IntStruct.from_address(id(42))"
     ],
     "language": "python",
     "metadata": {},
     "outputs": [
      {
       "metadata": {},
       "output_type": "pyout",
       "prompt_number": 4,
       "text": [
        "IntStruct(ob_digit=42, refcount=35)"
       ]
      }
     ],
     "prompt_number": 4
    },
    {
     "cell_type": "markdown",
     "metadata": {},
     "source": [
      "The ``ob_digit`` attribute points to the correct location in memory!\n",
      "\n",
      "But what about ``refcount``? We've only created a single value: why is the reference count so much greater than one?\n",
      "\n",
      "Well it turns out that Python uses small integers *a lot*. If a new ``PyObject`` were created for each of these integers, it would take a lot of memory. Because of this, Python implements common integer values as **singletons**: that is, only one copy of these numbers exist in memory. In other words, every time you create a new Python integer in this range, you're simply creating a reference to the singleton with that value:"
     ]
    },
    {
     "cell_type": "code",
     "collapsed": false,
     "input": [
      "x = 42\n",
      "y = 42\n",
      "id(x) == id(y)"
     ],
     "language": "python",
     "metadata": {},
     "outputs": [
      {
       "metadata": {},
       "output_type": "pyout",
       "prompt_number": 5,
       "text": [
        "True"
       ]
      }
     ],
     "prompt_number": 5
    },
    {
     "cell_type": "markdown",
     "metadata": {},
     "source": [
      "Both variables are simply pointers to the same memory address.  When you get to much bigger integers (larger than 255 in Python 3.4), this is no longer true:"
     ]
    },
    {
     "cell_type": "code",
     "collapsed": false,
     "input": [
      "x = 1234\n",
      "y = 1234\n",
      "id(x) == id(y)"
     ],
     "language": "python",
     "metadata": {},
     "outputs": [
      {
       "metadata": {},
       "output_type": "pyout",
       "prompt_number": 6,
       "text": [
        "False"
       ]
      }
     ],
     "prompt_number": 6
    },
    {
     "cell_type": "markdown",
     "metadata": {},
     "source": [
      "Just starting up the Python interpreter will create a lot of integer objects; it can be interesting to take a look at how many references there are to each:"
     ]
    },
    {
     "cell_type": "code",
     "collapsed": false,
     "input": [
      "%matplotlib inline\n",
      "import matplotlib.pyplot as plt\n",
      "import sys\n",
      "plt.loglog(range(1000), [sys.getrefcount(i) for i in range(1000)])\n",
      "plt.xlabel('integer value')\n",
      "plt.ylabel('reference count')"
     ],
     "language": "python",
     "metadata": {},
     "outputs": [
      {
       "metadata": {},
       "output_type": "pyout",
       "prompt_number": 7,
       "text": [
        "<matplotlib.text.Text at 0x106891ac8>"
       ]
      },
      {
       "metadata": {},
       "output_type": "display_data",
       "png": "[encoded data removed]",
       "text": [
        "<matplotlib.figure.Figure at 0x10219bdd8>"
       ]
      }
     ],
     "prompt_number": 7
    },
    {
     "cell_type": "markdown",
     "metadata": {},
     "source": [
      "We see that zero is referenced several thousand times, and as you may expect, the frequency of references generally decreases as the value of the integer increases.\n",
      "\n",
      "Just to further make sure that this is behaving as we'd expect, let's make sure the ``ob_digit`` field holds the correct value:"
     ]
    },
    {
     "cell_type": "code",
     "collapsed": false,
     "input": [
      "all(i == IntStruct.from_address(id(i)).ob_digit\n",
      "    for i in range(256))"
     ],
     "language": "python",
     "metadata": {},
     "outputs": [
      {
       "metadata": {},
       "output_type": "pyout",
       "prompt_number": 8,
       "text": [
        "True"
       ]
      }
     ],
     "prompt_number": 8
    },
    {
     "cell_type": "markdown",
     "metadata": {},
     "source": [
      "If you go a bit deeper into this, you might notice that this does not hold for numbers larger than 256: it turns out that some bit-shift gymnastics are performed in [Objects/longobject.c](http://hg.python.org/cpython/file/3.4/Objects/longobject.c#l232), and these change the way large integers are represented in memory.\n",
      "\n",
      "I can't say that I fully understand why exactly that is happening, but I imagine it has something to do with Python's ability to efficiently handle integers past the overflow limit of the long int data type, as we can see here:"
     ]
    },
    {
     "cell_type": "code",
     "collapsed": false,
     "input": [
      "2 ** 100"
     ],
     "language": "python",
     "metadata": {},
     "outputs": [
      {
       "metadata": {},
       "output_type": "pyout",
       "prompt_number": 9,
       "text": [
        "1267650600228229401496703205376"
       ]
      }
     ],
     "prompt_number": 9
    },
    {
     "cell_type": "markdown",
     "metadata": {},
     "source": [
      "That number is much too long to be a ``long``, which can only hold 64 bits worth of values (that is, up to $\\sim2^{64}$)"
     ]
    },
    {
     "cell_type": "heading",
     "level": 3,
     "metadata": {},
     "source": [
      "Digging into Python Lists"
     ]
    },
    {
     "cell_type": "markdown",
     "metadata": {},
     "source": [
      "Let's apply the above ideas to a more complicated type: Python lists. Analogously to integers, we find the definition of the list object itself in [Include/listobject.h](http://hg.python.org/cpython/file/3.4/Include/listobject.h#l23):\n",
      "\n",
      "``` C\n",
      "typedef struct {\n",
      "    PyObject_VAR_HEAD\n",
      "    PyObject **ob_item;\n",
      "    Py_ssize_t allocated;\n",
      "} PyListObject;\n",
      "```\n",
      "\n",
      "Again, we can expand the macros and de-obfuscate the types to see that the structure is effectively the following:\n",
      "\n",
      "``` C\n",
      "typedef struct {\n",
      "    long ob_refcnt;\n",
      "    PyTypeObject *ob_type;\n",
      "    Py_ssize_t ob_size;\n",
      "    PyObject **ob_item;\n",
      "    long allocated;\n",
      "} PyListObject;\n",
      "```\n",
      "\n",
      "Here the ``PyObject **ob_item`` is what points to the contents of the list, and the ``ob_size`` value tells us how many items are in the list."
     ]
    },
    {
     "cell_type": "code",
     "collapsed": false,
     "input": [
      "class ListStruct(ctypes.Structure):\n",
      "    _fields_ = [(\"ob_refcnt\", ctypes.c_long),\n",
      "                (\"ob_type\", ctypes.c_void_p),\n",
      "                (\"ob_size\", ctypes.c_ulong),\n",
      "                (\"ob_item\", ctypes.c_long),  # PyObject** pointer cast to long\n",
      "                (\"allocated\", ctypes.c_ulong)]\n",
      "    \n",
      "    def __repr__(self):\n",
      "        return (\"ListStruct(len={self.ob_size}, \"\n",
      "                \"refcount={self.ob_refcnt})\").format(self=self)"
     ],
     "language": "python",
     "metadata": {},
     "outputs": [],
     "prompt_number": 10
    },
    {
     "cell_type": "markdown",
     "metadata": {},
     "source": [
      "Let's try it out:"
     ]
    },
    {
     "cell_type": "code",
     "collapsed": false,
     "input": [
      "L = [1,2,3,4,5]\n",
      "ListStruct.from_address(id(L))"
     ],
     "language": "python",
     "metadata": {},
     "outputs": [
      {
       "metadata": {},
       "output_type": "pyout",
       "prompt_number": 11,
       "text": [
        "ListStruct(len=5, refcount=1)"
       ]
      }
     ],
     "prompt_number": 11
    },
    {
     "cell_type": "markdown",
     "metadata": {},
     "source": [
      "Just to make sure we've done things correctly, let's create a few extra references to the list, and see how it affects the reference count:"
     ]
    },
    {
     "cell_type": "code",
     "collapsed": false,
     "input": [
      "tup = [L, L]  # two more references to L\n",
      "ListStruct.from_address(id(L))"
     ],
     "language": "python",
     "metadata": {},
     "outputs": [
      {
       "metadata": {},
       "output_type": "pyout",
       "prompt_number": 12,
       "text": [
        "ListStruct(len=5, refcount=3)"
       ]
      }
     ],
     "prompt_number": 12
    },
    {
     "cell_type": "markdown",
     "metadata": {},
     "source": [
      "Now let's see about finding the actual elements within the list.\n",
      "\n",
      "As we saw above, the elements are stored via a contiguous array of ``PyObject`` pointers.  Using ``ctypes``, we can actually create a compound structure consisting of our ``IntStruct`` objects from before:"
     ]
    },
    {
     "cell_type": "code",
     "collapsed": false,
     "input": [
      "# get a raw pointer to our list\n",
      "Lstruct = ListStruct.from_address(id(L))\n",
      "\n",
      "# create a type which is an array of integer pointers the same length as L\n",
      "PtrArray = Lstruct.ob_size * ctypes.POINTER(IntStruct)\n",
      "\n",
      "# instantiate this type using the ob_item pointer\n",
      "L_values = PtrArray.from_address(Lstruct.ob_item)"
     ],
     "language": "python",
     "metadata": {},
     "outputs": [],
     "prompt_number": 13
    },
    {
     "cell_type": "markdown",
     "metadata": {},
     "source": [
      "Now let's take a look at the values in each of the items:"
     ]
    },
    {
     "cell_type": "code",
     "collapsed": false,
     "input": [
      "[ptr[0] for ptr in L_values]  # ptr[0] dereferences the pointer"
     ],
     "language": "python",
     "metadata": {},
     "outputs": [
      {
       "metadata": {},
       "output_type": "pyout",
       "prompt_number": 14,
       "text": [
        "[IntStruct(ob_digit=1, refcount=5296),\n",
        " IntStruct(ob_digit=2, refcount=2887),\n",
        " IntStruct(ob_digit=3, refcount=932),\n",
        " IntStruct(ob_digit=4, refcount=1049),\n",
        " IntStruct(ob_digit=5, refcount=808)]"
       ]
      }
     ],
     "prompt_number": 14
    },
    {
     "cell_type": "markdown",
     "metadata": {},
     "source": [
      "We've recovered the ``PyObject`` integers within our list! You might wish to take a moment to look back up to the schematic of the List memory layout above, and make sure you understand how these ``ctypes`` operations map onto that diagram."
     ]
    },
    {
     "cell_type": "heading",
     "level": 3,
     "metadata": {},
     "source": [
      "Digging into NumPy arrays"
     ]
    },
    {
     "cell_type": "markdown",
     "metadata": {},
     "source": [
      "Now, for comparison, let's do the same introspection on a numpy array.  I'll skip the detailed walk-through of the NumPy C-API array definition; if you want to take a look at it, you can find it in [numpy/core/include/numpy/ndarraytypes.h](https://github.com/numpy/numpy/blob/maintenance/1.8.x/numpy/core/include/numpy/ndarraytypes.h#L646)\n",
      "\n",
      "Note that I'm using NumPy version 1.8 here; these internals may have changed between versions, though I'm not sure whether this is the case."
     ]
    },
    {
     "cell_type": "code",
     "collapsed": false,
     "input": [
      "import numpy as np\n",
      "np.__version__"
     ],
     "language": "python",
     "metadata": {},
     "outputs": [
      {
       "metadata": {},
       "output_type": "pyout",
       "prompt_number": 15,
       "text": [
        "'1.8.1'"
       ]
      }
     ],
     "prompt_number": 15
    },
    {
     "cell_type": "markdown",
     "metadata": {},
     "source": [
      "Let's start by creating a structure that represents the numpy array itself. This should be starting to look familiar...\n",
      "\n",
      "We'll also add some custom properties to access Python versions of the shape and strides:"
     ]
    },
    {
     "cell_type": "code",
     "collapsed": false,
     "input": [
      "class NumpyStruct(ctypes.Structure):\n",
      "    _fields_ = [(\"ob_refcnt\", ctypes.c_long),\n",
      "                (\"ob_type\", ctypes.c_void_p),\n",
      "                (\"ob_data\", ctypes.c_long),  # char* pointer cast to long\n",
      "                (\"ob_ndim\", ctypes.c_int),\n",
      "                (\"ob_shape\", ctypes.c_voidp),\n",
      "                (\"ob_strides\", ctypes.c_voidp)]\n",
      "    \n",
      "    @property\n",
      "    def shape(self):\n",
      "        return tuple((self.ob_ndim * ctypes.c_int64).from_address(self.ob_shape))\n",
      "    \n",
      "    @property\n",
      "    def strides(self):\n",
      "        return tuple((self.ob_ndim * ctypes.c_int64).from_address(self.ob_strides))\n",
      "    \n",
      "    def __repr__(self):\n",
      "        return (\"NumpyStruct(shape={self.shape}, \"\n",
      "                \"refcount={self.ob_refcnt})\").format(self=self)"
     ],
     "language": "python",
     "metadata": {},
     "outputs": [],
     "prompt_number": 16
    },
    {
     "cell_type": "markdown",
     "metadata": {},
     "source": [
      "Now let's try it out:"
     ]
    },
    {
     "cell_type": "code",
     "collapsed": false,
     "input": [
      "x = np.random.random((10, 20))\n",
      "xstruct = NumpyStruct.from_address(id(x))\n",
      "xstruct"
     ],
     "language": "python",
     "metadata": {},
     "outputs": [
      {
       "metadata": {},
       "output_type": "pyout",
       "prompt_number": 17,
       "text": [
        "NumpyStruct(shape=(10, 20), refcount=1)"
       ]
      }
     ],
     "prompt_number": 17
    },
    {
     "cell_type": "markdown",
     "metadata": {},
     "source": [
      "We see that we've pulled out the correct shape information.  Let's make sure the reference count is correct:"
     ]
    },
    {
     "cell_type": "code",
     "collapsed": false,
     "input": [
      "L = [x,x,x]  # add three more references to x\n",
      "xstruct"
     ],
     "language": "python",
     "metadata": {},
     "outputs": [
      {
       "metadata": {},
       "output_type": "pyout",
       "prompt_number": 18,
       "text": [
        "NumpyStruct(shape=(10, 20), refcount=4)"
       ]
      }
     ],
     "prompt_number": 18
    },
    {
     "cell_type": "markdown",
     "metadata": {},
     "source": [
      "Now we can do the tricky part of pulling out the data buffer. For simplicity we'll ignore the strides and assume it's a C-contiguous array; this could be generalized with a bit of work."
     ]
    },
    {
     "cell_type": "code",
     "collapsed": false,
     "input": [
      "x = np.arange(10)\n",
      "xstruct = NumpyStruct.from_address(id(x))\n",
      "size = np.prod(xstruct.shape)\n",
      "\n",
      "# assume an array of integers\n",
      "arraytype = size * ctypes.c_long\n",
      "data = arraytype.from_address(xstruct.ob_data)\n",
      "\n",
      "[d for d in data]"
     ],
     "language": "python",
     "metadata": {},
     "outputs": [
      {
       "metadata": {},
       "output_type": "pyout",
       "prompt_number": 19,
       "text": [
        "[0, 1, 2, 3, 4, 5, 6, 7, 8, 9]"
       ]
      }
     ],
     "prompt_number": 19
    },
    {
     "cell_type": "markdown",
     "metadata": {},
     "source": [
      "The ``data`` variable is now a view of the contiguous block of memory defined in the NumPy array!  To show this, we'll change a value in the array..."
     ]
    },
    {
     "cell_type": "code",
     "collapsed": false,
     "input": [
      "x[4] = 555\n",
      "[d for d in data]"
     ],
     "language": "python",
     "metadata": {},
     "outputs": [
      {
       "metadata": {},
       "output_type": "pyout",
       "prompt_number": 20,
       "text": [
        "[0, 1, 2, 3, 555, 5, 6, 7, 8, 9]"
       ]
      }
     ],
     "prompt_number": 20
    },
    {
     "cell_type": "markdown",
     "metadata": {},
     "source": [
      "... and observe that the data view changes as well.  Both ``x`` and ``data`` are pointing to the same contiguous block of memory.\n",
      "\n",
      "Comparing the internals of the Python list and the NumPy ndarray, it is clear that NumPy's arrays are **much, much** simpler for representing a list of identically-typed data. That fact is related to what makes it more efficient for the compiler to handle as well."
     ]
    },
    {
     "cell_type": "heading",
     "level": 2,
     "metadata": {},
     "source": [
      "Just for fun: a few \"never use these\" hacks"
     ]
    },
    {
     "cell_type": "markdown",
     "metadata": {},
     "source": [
      "Using ``ctypes`` to wrap the C-level data behind Python objects allows you to do some pretty interesting things. Nothing here should actually be used (ever), but it's all pretty interesting!"
     ]
    },
    {
     "cell_type": "heading",
     "level": 3,
     "metadata": {},
     "source": [
      "Modifying the Value of an Integer"
     ]
    },
    {
     "cell_type": "markdown",
     "metadata": {},
     "source": [
      "Inspired by [this Reddit post](http://www.reddit.com/r/Python/comments/2441cv/can_you_change_the_value_of_1/), we can actually modify the numerical value of integer objects! If we use a common number like ``0`` or ``1``, we're very likely to crash our Python kernel. But if we do it with less important numbers, we can get away with it.\n",
      "\n",
      "Note that this is a *really, really* bad idea. In particular, if you're running this in an IPython notebook, you might corrupt the IPython kernel's very ability to run (because it's written in Python). Nevertheless, we'll cross our fingers and give it a shot:"
     ]
    },
    {
     "cell_type": "code",
     "collapsed": false,
     "input": [
      "# WARNNG: never do this!\n",
      "id113 = id(113)\n",
      "iptr = IntStruct.from_address(id113)\n",
      "iptr.ob_digit = 4  # now 113 == 4\n",
      "\n",
      "113 == 4"
     ],
     "language": "python",
     "metadata": {},
     "outputs": [
      {
       "metadata": {},
       "output_type": "pyout",
       "prompt_number": 21,
       "text": [
        "True"
       ]
      }
     ],
     "prompt_number": 21
    },
    {
     "cell_type": "markdown",
     "metadata": {},
     "source": [
      "But note now that we can't set the value back in a simple manner, because the true value ``113`` no longer exists in Python!"
     ]
    },
    {
     "cell_type": "code",
     "collapsed": false,
     "input": [
      "113"
     ],
     "language": "python",
     "metadata": {},
     "outputs": [
      {
       "metadata": {},
       "output_type": "pyout",
       "prompt_number": 22,
       "text": [
        "4"
       ]
      }
     ],
     "prompt_number": 22
    },
    {
     "cell_type": "code",
     "collapsed": false,
     "input": [
      "112 + 1"
     ],
     "language": "python",
     "metadata": {},
     "outputs": [
      {
       "metadata": {},
       "output_type": "pyout",
       "prompt_number": 23,
       "text": [
        "4"
       ]
      }
     ],
     "prompt_number": 23
    },
    {
     "cell_type": "markdown",
     "metadata": {},
     "source": [
      "One way to recover is to manipulate the bytes directly. We know that $113 = 7 \\times 16 + 1$, so **on a little-endian 64-bit system running Python 3.4**, the following should work:"
     ]
    },
    {
     "cell_type": "code",
     "collapsed": false,
     "input": [
      "ctypes.cast(id113, ctypes.POINTER(ctypes.c_char))[3 * 8] = b'\\x71'\n",
      "112 + 1"
     ],
     "language": "python",
     "metadata": {},
     "outputs": [
      {
       "metadata": {},
       "output_type": "pyout",
       "prompt_number": 24,
       "text": [
        "113"
       ]
      }
     ],
     "prompt_number": 24
    },
    {
     "cell_type": "markdown",
     "metadata": {},
     "source": [
      "and we're back!\n",
      "\n",
      "**Just in case I didn't stress it enough before: never do this.**"
     ]
    },
    {
     "cell_type": "heading",
     "level": 3,
     "metadata": {},
     "source": [
      "In-place Modification of List Contents"
     ]
    },
    {
     "cell_type": "code",
     "collapsed": false,
     "input": [
      "# WARNING: never do this!\n",
      "L = [42]\n",
      "Lwrapper = ListStruct.from_address(id(L))\n",
      "item_address = ctypes.c_long.from_address(Lwrapper.ob_item)\n",
      "print(\"before:\", L)\n",
      "\n",
      "# change the c-pointer of the list item\n",
      "item_address.value = id(6)\n",
      "\n",
      "# we need to update reference counts by hand\n",
      "IntStruct.from_address(id(42)).ob_refcnt -= 1\n",
      "IntStruct.from_address(id(6)).ob_refcnt += 1\n",
      "\n",
      "print(\"after: \", L)"
     ],
     "language": "python",
     "metadata": {},
     "outputs": [
      {
       "output_type": "stream",
       "stream": "stdout",
       "text": [
        "before: [42]\n",
        "after:  [6]\n"
       ]
      }
     ],
     "prompt_number": 25
    },
    {
     "cell_type": "heading",
     "level": 3,
     "metadata": {},
     "source": [
      "Meta Goes Meta: a self-wrapping Python object"
     ]
    },
    {
     "cell_type": "markdown",
     "metadata": {},
     "source": [
      "Using the above methods, we can start to get even stranger. http://hg.python.org/cpython/file/3.4/Modules/_ctypes/ctypes.h#l46"
     ]
    },
    {
     "cell_type": "code",
     "collapsed": false,
     "input": [
      "class CStructStruct(ctypes.Structure):\n",
      "    _fields_ = [(\"ob_refcnt\", ctypes.c_long),\n",
      "                (\"ob_type\", ctypes.c_void_p),\n",
      "                (\"ob_ptr\", ctypes.c_long),  # char* pointer cast to long\n",
      "                    ]\n",
      "    \n",
      "    def __repr__(self):\n",
      "        return (\"CStructStruct(ptr=0x{self.ob_ptr:x}, \"\n",
      "                \"refcnt={self.ob_refcnt})\").format(self=self)"
     ],
     "language": "python",
     "metadata": {},
     "outputs": [],
     "prompt_number": 26
    },
    {
     "cell_type": "code",
     "collapsed": false,
     "input": [
      "tmp = CStructStruct.from_address(id(0))\n",
      "meta = CStructStruct.from_address(id(tmp))\n",
      "\n",
      "print(repr(meta))"
     ],
     "language": "python",
     "metadata": {},
     "outputs": [
      {
       "output_type": "stream",
       "stream": "stdout",
       "text": [
        "CStructStruct(ptr=0x10023ef00, refcnt=1)\n"
       ]
      }
     ],
     "prompt_number": 27
    },
    {
     "cell_type": "code",
     "collapsed": false,
     "input": [
      "meta_wrapper = CStructStruct.from_address(id(meta))\n",
      "meta_wrapper.ob_ptr = id(meta)\n",
      "\n",
      "print(meta.ob_ptr == id(meta))\n",
      "print(repr(meta))"
     ],
     "language": "python",
     "metadata": {},
     "outputs": [
      {
       "output_type": "stream",
       "stream": "stdout",
       "text": [
        "True\n",
        "CStructStruct(ptr=0x106a92950, refcnt=7)\n"
       ]
      }
     ],
     "prompt_number": 28
    },
    {
     "cell_type": "code",
     "collapsed": false,
     "input": [
      "L = []\n",
      "L.append(L)\n",
      "print(L)"
     ],
     "language": "python",
     "metadata": {},
     "outputs": [
      {
       "output_type": "stream",
       "stream": "stdout",
       "text": [
        "[[...]]\n"
       ]
      }
     ],
     "prompt_number": 29
    },
    {
     "cell_type": "heading",
     "level": 2,
     "metadata": {},
     "source": [
      "Conclusion"
     ]
    },
    {
     "cell_type": "markdown",
     "metadata": {},
     "source": [
      "Python is slow. And one big reason for that, as we've seen, is the type indirection under the hood which makes Python quick, easy, and fun for the developer.  And as we've seen, Python itself offers tools that can be used to hack into the Python objects themselves.\n",
      "\n",
      "I hope that this was made more clear through this exploration of the differences between various objects, and some liberal mucking around in the internals of CPython itself. This exercise was extremely enlightening for me, and I hope it was for you as well...  Happy hacking!"
     ]
    }
   ],
   "metadata": {}
  }
 ]
}